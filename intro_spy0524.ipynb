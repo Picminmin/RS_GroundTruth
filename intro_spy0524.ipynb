{
 "cells": [
  {
   "cell_type": "markdown",
   "metadata": {},
   "source": [
    "<font size = '3'>2024/05/24</font>  \n",
    "<font size = '3'>SPy(Spectral Python)ライブラリを用いてHSI dataを読み込む</font>  \n"
   ]
  },
  {
   "cell_type": "code",
   "execution_count": 1,
   "metadata": {},
   "outputs": [],
   "source": [
    "from indianpines import load as load_pines\n",
    "import s3vm_pines.module as s3modu\n",
    "from scipy.io import loadmat\n",
    "from pprint import pprint\n",
    "import numpy as np\n",
    "from sklearn.svm import SVC"
   ]
  },
  {
   "cell_type": "code",
   "execution_count": 3,
   "metadata": {},
   "outputs": [
    {
     "name": "stdout",
     "output_type": "stream",
     "text": [
      "data keys:dict_keys(['__header__', '__version__', '__globals__', 'indian_pines'])\n",
      "array([[3, 3, 3, ..., 0, 0, 0],\n",
      "       [3, 3, 3, ..., 0, 0, 0],\n",
      "       [3, 3, 3, ..., 0, 0, 0],\n",
      "       ...,\n",
      "       [0, 0, 0, ..., 0, 0, 0],\n",
      "       [0, 0, 0, ..., 0, 0, 0],\n",
      "       [0, 0, 0, ..., 0, 0, 0]], dtype=uint8)\n",
      "スペクトルデータの形状: (145, 145, 220)\n"
     ]
    }
   ],
   "source": [
    "\n",
    "# ファイルパス\n",
    "data_file_path = './01_Indian Pines/Indian_pines.mat'   # indianpinesデータのパス\n",
    "gt_file_path = './01_Indian Pines/Indian_pines_gt.mat'  # indianpinesのカテゴリデータのパス\n",
    "# .matファイルの読み込み\n",
    "data = loadmat(data_file_path)\n",
    "groundtruth = loadmat(gt_file_path)\n",
    "\n",
    "print(f\"data keys:{data.keys()}\")\n",
    "# スペクトルデータの取得\n",
    "spectra = data['indian_pines']\n",
    "# pprint(data)\n",
    "pprint(groundtruth['indian_pines_gt'])\n",
    "# スペクトルとカテゴリの形状や内容を確認\n",
    "print(\"スペクトルデータの形状:\", spectra.shape)"
   ]
  },
  {
   "cell_type": "code",
   "execution_count": 3,
   "metadata": {},
   "outputs": [
    {
     "name": "stdout",
     "output_type": "stream",
     "text": [
      "Now clustering for each target category\n",
      "\t1/17: Alfalfa\t n_clusters:1, maxsize=46, minsize=46\n",
      "\t2/17: Corn-notill\t n_clusters:6, maxsize=629, minsize=80\n",
      "\t3/17: Corn-min\t n_clusters:5, maxsize=270, minsize=79\n",
      "\t4/17: Corn\t n_clusters:1, maxsize=237, minsize=237\n",
      "\t5/17: Grass/Pasture\t n_clusters:4, maxsize=318, minsize=18\n",
      "\t6/17: Grass/Trees\t n_clusters:3, maxsize=270, minsize=222\n",
      "\t7/17: Grass/pasture-mowed\t n_clusters:1, maxsize=28, minsize=28\n",
      "\t8/17: Hay-windrowed\t n_clusters:1, maxsize=478, minsize=478\n",
      "\t9/17: Oats\t n_clusters:1, maxsize=20, minsize=20\n",
      "\t10/17: Soybeans-notill\t n_clusters:4, maxsize=741, minsize=60\n",
      "\t11/17: Soybeans-min\t n_clusters:5, maxsize=1082, minsize=33\n",
      "\t12/17: Soybean-clean\t n_clusters:3, maxsize=256, minsize=147\n",
      "\t13/17: Wheat\t n_clusters:1, maxsize=205, minsize=205\n",
      "\t14/17: Woods\t n_clusters:3, maxsize=904, minsize=120\n",
      "\t15/17: Bldg-Grass-Tree-Drives\t n_clusters:2, maxsize=297, minsize=89\n",
      "\t16/17: Stone-steel towers\t n_clusters:1, maxsize=93, minsize=93\n"
     ]
    }
   ],
   "source": [
    "recategorize_rule = None\n",
    "n_train_equal = True\n",
    "p_train = 0.02\n",
    "status, _ = s3modu.train_test_split(p_train = p_train,recategorize_rule=recategorize_rule,n_train_equal=n_train_equal)\n"
   ]
  },
  {
   "cell_type": "code",
   "execution_count": null,
   "metadata": {},
   "outputs": [
    {
     "name": "stdout",
     "output_type": "stream",
     "text": [
      "(103,)\n"
     ]
    }
   ],
   "source": [
    "# ファイルパス\n",
    "paviau_data_path = 'PaviaU.mat'   # Pavia Universityデータのパス\n",
    "paviau_gt_path = 'PaviaU_gt.mat'  # Pavia Universityのカテゴリデータのパス\n",
    "# .matファイルの読み込み\n",
    "data = loadmat(paviau_data_path)\n",
    "groundtruth = loadmat(paviau_gt_path)\n",
    "# print(data.keys())\n",
    "# print(type(data['paviaU']))\n",
    "# print((data['paviaU']).shape)\n",
    "# print(groundtruth.keys())\n",
    "\n",
    "pavia_spectral = data['paviaU']\n",
    "pavia_category = groundtruth['paviaU_gt']\n",
    "\n",
    "print(pavia_spectral[0,0,:].shape)\n"
   ]
  }
 ],
 "metadata": {
  "kernelspec": {
   "display_name": "Python 3",
   "language": "python",
   "name": "python3"
  },
  "language_info": {
   "codemirror_mode": {
    "name": "ipython",
    "version": 3
   },
   "file_extension": ".py",
   "mimetype": "text/x-python",
   "name": "python",
   "nbconvert_exporter": "python",
   "pygments_lexer": "ipython3",
   "version": "3.10.0"
  }
 },
 "nbformat": 4,
 "nbformat_minor": 2
}
